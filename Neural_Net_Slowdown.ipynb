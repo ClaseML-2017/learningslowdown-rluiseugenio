{
 "cells": [
  {
   "cell_type": "code",
   "execution_count": 13,
   "metadata": {},
   "outputs": [],
   "source": [
    "import tensorflow as tf\n",
    "import numpy as np\n",
    "import matplotlib.pyplot as plt"
   ]
  },
  {
   "cell_type": "code",
   "execution_count": 21,
   "metadata": {},
   "outputs": [],
   "source": [
    "X=np.asarray([[0,0],[0,1],[1,0],[1,1]])\n",
    "Y=np.asarray([[0],[0],[0],[1]])\n",
    "input_size=2\n",
    "middle_size = 2\n",
    "output_layer_size=1\n",
    "#Los placeholders son para los datos de entrada y salida\n",
    "x = tf.placeholder(tf.float32, [None, input_size])\n",
    "y_ = tf.placeholder(tf.float32, [None, output_layer_size]) \n"
   ]
  },
  {
   "cell_type": "code",
   "execution_count": 22,
   "metadata": {},
   "outputs": [],
   "source": [
    "#Las variables para lo que se va a ir calculando y modificando en el camino\n",
    "W_layer1 = tf.Variable(tf.random_uniform([input_size,output_layer_size], -1, 1), name=\"W_layer1\")\n",
    "b_layer1 = tf.Variable(tf.zeros([middle_size]), name=\"b_layer1\")  #Es el w0\n",
    "\n",
    "W_layer2 = tf.Variable(tf.random_uniform([middle_size,output_layer_size], -1, 1), name=\"W_layer2\")\n",
    "b_layer2 = tf.Variable(tf.zeros([output_layer_size]), name=\"b_layer2\")"
   ]
  },
  {
   "cell_type": "code",
   "execution_count": 23,
   "metadata": {},
   "outputs": [],
   "source": [
    "#La propagacion de la red es el algoritmo de la regularizacion\n",
    "y = tf.nn.sigmoid(tf.matmul(x,W_layer1)+b_layer1) #Regresion logistica\n",
    "lossfn = tf.reduce_mean(tf.reduce_sum((y_-y)**2)) #cuadrático\n",
    "train_step = tf.train.GradientDescentOptimizer(0.01).minimize(lossfn)\n",
    "init = tf.global_variables_initializer()\n",
    "sess = tf.Session() # tipo de sesion, puede ser interactiva"
   ]
  },
  {
   "cell_type": "code",
   "execution_count": 24,
   "metadata": {},
   "outputs": [],
   "source": [
    "#Correr el tensorflow\n",
    "sess.run(init)\n",
    "for i in range(1000):\n",
    "  sess.run(train_step, feed_dict={x: X, y_: Y})"
   ]
  },
  {
   "cell_type": "code",
   "execution_count": 27,
   "metadata": {},
   "outputs": [
    {
     "name": "stdout",
     "output_type": "stream",
     "text": [
      "[[ 0.1159685   0.1159685 ]\n",
      " [ 0.31527933  0.31527933]\n",
      " [ 0.31743872  0.31743872]\n",
      " [ 0.62011933  0.62011933]]\n",
      "[[ 1.26560676]\n",
      " [ 1.25562227]]\n",
      "[[-0.58562875]\n",
      " [ 0.52292204]]\n"
     ]
    }
   ],
   "source": [
    "#Ejemplo de como ver las variables\n",
    "print(sess.run(y, feed_dict={x: X}))\n",
    "print(sess.run(W_layer1))\n",
    "print(sess.run(W_layer2))\n"
   ]
  },
  {
   "cell_type": "code",
   "execution_count": 28,
   "metadata": {},
   "outputs": [
    {
     "data": {
      "image/png": "[encoded data removed]",
      "text/plain": [
       "<matplotlib.figure.Figure at 0x7f41a2049410>"
      ]
     },
     "metadata": {},
     "output_type": "display_data"
    }
   ],
   "source": [
    "# Guardamos pesos en cada iteración del entrenamiento\n",
    "delta_w1 = []\n",
    "delta_w2 = []\n",
    "sess.run(init)\n",
    "for i in range(100000):\n",
    "    sess.run(train_step, feed_dict={x: X, y_: Y})\n",
    "    delta_w1 += [sess.run(W_layer1)]\n",
    "    delta_w2 += [sess.run(W_layer2)]\n",
    "\n",
    "W1 = delta_w1[-1]\n",
    "W2 = delta_w2[-1]\n",
    "\n",
    "l1 = [np.mean(w / W1) for w in delta_w1]\n",
    "l2 = [np.mean(w / W2) for w in delta_w2]\n",
    "\n",
    "x = range(100000)\n",
    "\n",
    "\n",
    "plt.plot(x, l1, 'r-') # Esta línea son los pesos de la capa de hasta la derecha \n",
    "plt.plot(x, l2, 'b-') # Esto línea son los pesos de la capa de hasta la izquierda \n",
    "plt.show()\n",
    "\n",
    "sess.close()"
   ]
  }
 ],
 "metadata": {
  "kernelspec": {
   "display_name": "Python 2",
   "language": "python",
   "name": "python2"
  },
  "language_info": {
   "codemirror_mode": {
    "name": "ipython",
    "version": 2
   },
   "file_extension": ".py",
   "mimetype": "text/x-python",
   "name": "python",
   "nbconvert_exporter": "python",
   "pygments_lexer": "ipython2",
   "version": "2.7.12"
  }
 },
 "nbformat": 4,
 "nbformat_minor": 2
}
